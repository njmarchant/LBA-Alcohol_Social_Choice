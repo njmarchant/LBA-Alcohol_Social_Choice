{
 "cells": [
  {
   "cell_type": "code",
   "execution_count": 2,
   "id": "728a5ec4-59d7-4a5a-b808-35a8b078651e",
   "metadata": {
    "scrolled": true
   },
   "outputs": [
    {
     "name": "stdout",
     "output_type": "stream",
     "text": [
      "1. Loading and preparing data...\n",
      "\n",
      "2. Loading traces and recomputing log-likelihoods...\n",
      "   Loaded trace for M_base. Recomputing log-likelihood...\n"
     ]
    },
    {
     "data": {
      "text/html": [
       "<pre style=\"white-space:pre;overflow-x:auto;line-height:normal;font-family:Menlo,'DejaVu Sans Mono',consolas,'Courier New',monospace\">C:\\Users\\drfox\\anaconda3\\envs\\lba_env\\lib\\site-packages\\rich\\live.py:231: UserWarning: install \"ipywidgets\" for \n",
       "Jupyter support\n",
       "  warnings.warn('install \"ipywidgets\" for Jupyter support')\n",
       "</pre>\n"
      ],
      "text/plain": [
       "C:\\Users\\drfox\\anaconda3\\envs\\lba_env\\lib\\site-packages\\rich\\live.py:231: UserWarning: install \"ipywidgets\" for \n",
       "Jupyter support\n",
       "  warnings.warn('install \"ipywidgets\" for Jupyter support')\n"
      ]
     },
     "metadata": {},
     "output_type": "display_data"
    },
    {
     "data": {
      "text/html": [
       "<pre style=\"white-space:pre;overflow-x:auto;line-height:normal;font-family:Menlo,'DejaVu Sans Mono',consolas,'Courier New',monospace\"></pre>\n"
      ],
      "text/plain": []
     },
     "metadata": {},
     "output_type": "display_data"
    },
    {
     "name": "stdout",
     "output_type": "stream",
     "text": [
      "   Loaded trace for M_S. Recomputing log-likelihood...\n"
     ]
    },
    {
     "data": {
      "text/html": [
       "<pre style=\"white-space:pre;overflow-x:auto;line-height:normal;font-family:Menlo,'DejaVu Sans Mono',consolas,'Courier New',monospace\">C:\\Users\\drfox\\anaconda3\\envs\\lba_env\\lib\\site-packages\\rich\\live.py:231: UserWarning: install \"ipywidgets\" for \n",
       "Jupyter support\n",
       "  warnings.warn('install \"ipywidgets\" for Jupyter support')\n",
       "</pre>\n"
      ],
      "text/plain": [
       "C:\\Users\\drfox\\anaconda3\\envs\\lba_env\\lib\\site-packages\\rich\\live.py:231: UserWarning: install \"ipywidgets\" for \n",
       "Jupyter support\n",
       "  warnings.warn('install \"ipywidgets\" for Jupyter support')\n"
      ]
     },
     "metadata": {},
     "output_type": "display_data"
    },
    {
     "data": {
      "text/html": [
       "<pre style=\"white-space:pre;overflow-x:auto;line-height:normal;font-family:Menlo,'DejaVu Sans Mono',consolas,'Courier New',monospace\"></pre>\n"
      ],
      "text/plain": []
     },
     "metadata": {},
     "output_type": "display_data"
    },
    {
     "name": "stdout",
     "output_type": "stream",
     "text": [
      "   Loaded trace for M_C. Recomputing log-likelihood...\n"
     ]
    },
    {
     "data": {
      "text/html": [
       "<pre style=\"white-space:pre;overflow-x:auto;line-height:normal;font-family:Menlo,'DejaVu Sans Mono',consolas,'Courier New',monospace\">C:\\Users\\drfox\\anaconda3\\envs\\lba_env\\lib\\site-packages\\rich\\live.py:231: UserWarning: install \"ipywidgets\" for \n",
       "Jupyter support\n",
       "  warnings.warn('install \"ipywidgets\" for Jupyter support')\n",
       "</pre>\n"
      ],
      "text/plain": [
       "C:\\Users\\drfox\\anaconda3\\envs\\lba_env\\lib\\site-packages\\rich\\live.py:231: UserWarning: install \"ipywidgets\" for \n",
       "Jupyter support\n",
       "  warnings.warn('install \"ipywidgets\" for Jupyter support')\n"
      ]
     },
     "metadata": {},
     "output_type": "display_data"
    },
    {
     "data": {
      "text/html": [
       "<pre style=\"white-space:pre;overflow-x:auto;line-height:normal;font-family:Menlo,'DejaVu Sans Mono',consolas,'Courier New',monospace\"></pre>\n"
      ],
      "text/plain": []
     },
     "metadata": {},
     "output_type": "display_data"
    },
    {
     "name": "stdout",
     "output_type": "stream",
     "text": [
      "   Loaded trace for M_R. Recomputing log-likelihood...\n"
     ]
    },
    {
     "data": {
      "text/html": [
       "<pre style=\"white-space:pre;overflow-x:auto;line-height:normal;font-family:Menlo,'DejaVu Sans Mono',consolas,'Courier New',monospace\">C:\\Users\\drfox\\anaconda3\\envs\\lba_env\\lib\\site-packages\\rich\\live.py:231: UserWarning: install \"ipywidgets\" for \n",
       "Jupyter support\n",
       "  warnings.warn('install \"ipywidgets\" for Jupyter support')\n",
       "</pre>\n"
      ],
      "text/plain": [
       "C:\\Users\\drfox\\anaconda3\\envs\\lba_env\\lib\\site-packages\\rich\\live.py:231: UserWarning: install \"ipywidgets\" for \n",
       "Jupyter support\n",
       "  warnings.warn('install \"ipywidgets\" for Jupyter support')\n"
      ]
     },
     "metadata": {},
     "output_type": "display_data"
    },
    {
     "data": {
      "text/html": [
       "<pre style=\"white-space:pre;overflow-x:auto;line-height:normal;font-family:Menlo,'DejaVu Sans Mono',consolas,'Courier New',monospace\"></pre>\n"
      ],
      "text/plain": []
     },
     "metadata": {},
     "output_type": "display_data"
    },
    {
     "name": "stdout",
     "output_type": "stream",
     "text": [
      "   Loaded trace for M_SC. Recomputing log-likelihood...\n"
     ]
    },
    {
     "data": {
      "text/html": [
       "<pre style=\"white-space:pre;overflow-x:auto;line-height:normal;font-family:Menlo,'DejaVu Sans Mono',consolas,'Courier New',monospace\">C:\\Users\\drfox\\anaconda3\\envs\\lba_env\\lib\\site-packages\\rich\\live.py:231: UserWarning: install \"ipywidgets\" for \n",
       "Jupyter support\n",
       "  warnings.warn('install \"ipywidgets\" for Jupyter support')\n",
       "</pre>\n"
      ],
      "text/plain": [
       "C:\\Users\\drfox\\anaconda3\\envs\\lba_env\\lib\\site-packages\\rich\\live.py:231: UserWarning: install \"ipywidgets\" for \n",
       "Jupyter support\n",
       "  warnings.warn('install \"ipywidgets\" for Jupyter support')\n"
      ]
     },
     "metadata": {},
     "output_type": "display_data"
    },
    {
     "data": {
      "text/html": [
       "<pre style=\"white-space:pre;overflow-x:auto;line-height:normal;font-family:Menlo,'DejaVu Sans Mono',consolas,'Courier New',monospace\"></pre>\n"
      ],
      "text/plain": []
     },
     "metadata": {},
     "output_type": "display_data"
    },
    {
     "name": "stdout",
     "output_type": "stream",
     "text": [
      "   Loaded trace for M_SR. Recomputing log-likelihood...\n"
     ]
    },
    {
     "data": {
      "text/html": [
       "<pre style=\"white-space:pre;overflow-x:auto;line-height:normal;font-family:Menlo,'DejaVu Sans Mono',consolas,'Courier New',monospace\">C:\\Users\\drfox\\anaconda3\\envs\\lba_env\\lib\\site-packages\\rich\\live.py:231: UserWarning: install \"ipywidgets\" for \n",
       "Jupyter support\n",
       "  warnings.warn('install \"ipywidgets\" for Jupyter support')\n",
       "</pre>\n"
      ],
      "text/plain": [
       "C:\\Users\\drfox\\anaconda3\\envs\\lba_env\\lib\\site-packages\\rich\\live.py:231: UserWarning: install \"ipywidgets\" for \n",
       "Jupyter support\n",
       "  warnings.warn('install \"ipywidgets\" for Jupyter support')\n"
      ]
     },
     "metadata": {},
     "output_type": "display_data"
    },
    {
     "data": {
      "text/html": [
       "<pre style=\"white-space:pre;overflow-x:auto;line-height:normal;font-family:Menlo,'DejaVu Sans Mono',consolas,'Courier New',monospace\"></pre>\n"
      ],
      "text/plain": []
     },
     "metadata": {},
     "output_type": "display_data"
    },
    {
     "name": "stdout",
     "output_type": "stream",
     "text": [
      "   Loaded trace for M_CR. Recomputing log-likelihood...\n"
     ]
    },
    {
     "data": {
      "text/html": [
       "<pre style=\"white-space:pre;overflow-x:auto;line-height:normal;font-family:Menlo,'DejaVu Sans Mono',consolas,'Courier New',monospace\">C:\\Users\\drfox\\anaconda3\\envs\\lba_env\\lib\\site-packages\\rich\\live.py:231: UserWarning: install \"ipywidgets\" for \n",
       "Jupyter support\n",
       "  warnings.warn('install \"ipywidgets\" for Jupyter support')\n",
       "</pre>\n"
      ],
      "text/plain": [
       "C:\\Users\\drfox\\anaconda3\\envs\\lba_env\\lib\\site-packages\\rich\\live.py:231: UserWarning: install \"ipywidgets\" for \n",
       "Jupyter support\n",
       "  warnings.warn('install \"ipywidgets\" for Jupyter support')\n"
      ]
     },
     "metadata": {},
     "output_type": "display_data"
    },
    {
     "data": {
      "text/html": [
       "<pre style=\"white-space:pre;overflow-x:auto;line-height:normal;font-family:Menlo,'DejaVu Sans Mono',consolas,'Courier New',monospace\"></pre>\n"
      ],
      "text/plain": []
     },
     "metadata": {},
     "output_type": "display_data"
    },
    {
     "name": "stdout",
     "output_type": "stream",
     "text": [
      "   Loaded trace for M_SCR. Recomputing log-likelihood...\n"
     ]
    },
    {
     "data": {
      "text/html": [
       "<pre style=\"white-space:pre;overflow-x:auto;line-height:normal;font-family:Menlo,'DejaVu Sans Mono',consolas,'Courier New',monospace\">C:\\Users\\drfox\\anaconda3\\envs\\lba_env\\lib\\site-packages\\rich\\live.py:231: UserWarning: install \"ipywidgets\" for \n",
       "Jupyter support\n",
       "  warnings.warn('install \"ipywidgets\" for Jupyter support')\n",
       "</pre>\n"
      ],
      "text/plain": [
       "C:\\Users\\drfox\\anaconda3\\envs\\lba_env\\lib\\site-packages\\rich\\live.py:231: UserWarning: install \"ipywidgets\" for \n",
       "Jupyter support\n",
       "  warnings.warn('install \"ipywidgets\" for Jupyter support')\n"
      ]
     },
     "metadata": {},
     "output_type": "display_data"
    },
    {
     "data": {
      "text/html": [
       "<pre style=\"white-space:pre;overflow-x:auto;line-height:normal;font-family:Menlo,'DejaVu Sans Mono',consolas,'Courier New',monospace\"></pre>\n"
      ],
      "text/plain": []
     },
     "metadata": {},
     "output_type": "display_data"
    },
    {
     "name": "stdout",
     "output_type": "stream",
     "text": [
      "\n",
      "3. Performing LOO model comparison... (This may take a few minutes)\n"
     ]
    },
    {
     "name": "stderr",
     "output_type": "stream",
     "text": [
      "C:\\Users\\drfox\\anaconda3\\envs\\lba_env\\lib\\site-packages\\arviz\\stats\\stats.py:795: UserWarning: Estimated shape parameter of Pareto distribution is greater than 0.70 for one or more samples. You should consider using a more robust model, this is because importance sampling is less likely to work well if the marginal posterior and LOO posterior are very different. This is more likely to happen with a non-robust model and highly influential observations.\n",
      "  warnings.warn(\n",
      "C:\\Users\\drfox\\anaconda3\\envs\\lba_env\\lib\\site-packages\\arviz\\stats\\stats.py:795: UserWarning: Estimated shape parameter of Pareto distribution is greater than 0.70 for one or more samples. You should consider using a more robust model, this is because importance sampling is less likely to work well if the marginal posterior and LOO posterior are very different. This is more likely to happen with a non-robust model and highly influential observations.\n",
      "  warnings.warn(\n"
     ]
    },
    {
     "name": "stdout",
     "output_type": "stream",
     "text": [
      "\n",
      "--- Model Comparison Results (Lower LOO is better) ---\n",
      "        rank     elpd_loo      p_loo   elpd_diff        weight         se  \\\n",
      "M_SC       0 -7125.696477  45.786231    0.000000  1.000000e+00  24.084415   \n",
      "M_SCR      1 -7131.655416  46.216610    5.958939  6.080313e-09  24.120967   \n",
      "M_S        2 -7143.979979  43.969321   18.283502  5.616585e-09  23.509494   \n",
      "M_SR       3 -7149.869499  44.375875   24.173021  5.516085e-09  23.527527   \n",
      "M_C        4 -7465.217619  25.737641  339.521141  2.504201e-10  16.312243   \n",
      "M_CR       5 -7471.314553  25.868868  345.618076  1.542357e-10  16.309482   \n",
      "M_base     6 -7477.249210  21.466081  351.552733  9.259171e-11  16.594254   \n",
      "M_R        7 -7482.814370  21.519951  357.117893  0.000000e+00  16.580585   \n",
      "\n",
      "              dse  warning scale  \n",
      "M_SC     0.000000    False   log  \n",
      "M_SCR    0.237356    False   log  \n",
      "M_S      3.710341    False   log  \n",
      "M_SR     3.661534    False   log  \n",
      "M_C     21.538982     True   log  \n",
      "M_CR    21.524186     True   log  \n",
      "M_base  21.911227    False   log  \n",
      "M_R     21.879866    False   log  \n",
      "\n",
      "4. Saving comparison results...\n",
      "   Comparison table saved to: LBA_Model_Comparison_Results\\model_comparison_loo.csv\n",
      "   Comparison plot saved to: LBA_Model_Comparison_Results\\model_comparison_plot.png\n"
     ]
    },
    {
     "data": {
      "image/png": "[encoded data removed]",
      "text/plain": [
       "<Figure size 600x800 with 1 Axes>"
      ]
     },
     "metadata": {},
     "output_type": "display_data"
    },
    {
     "name": "stdout",
     "output_type": "stream",
     "text": [
      "\n",
      "=== Model Comparison Complete ===\n"
     ]
    }
   ],
   "source": [
    "# =============================================================================\n",
    "# Formal Comparison of the LBA Power Set Models\n",
    "#\n",
    "# Description:\n",
    "# This script performs a formal Bayesian model comparison on the 8 LBA models\n",
    "# fit by the `fit_lba_power_set.py` script. It uses the ArviZ library to\n",
    "# calculate the Leave-One-Out cross-validation (LOO) metric for each model.\n",
    "#\n",
    "# This version recomputes the log-likelihood for each model after loading\n",
    "# to ensure numerical stability and avoid errors during comparison. It uses\n",
    "# the modern pm.CustomDist API for defining the likelihood.\n",
    "# =============================================================================\n",
    "\n",
    "# --- 1. Import Necessary Libraries ---\n",
    "import arviz as az\n",
    "import os\n",
    "import pandas as pd\n",
    "import matplotlib.pyplot as plt\n",
    "import pymc as pm\n",
    "import pytensor.tensor as pt\n",
    "import numpy as np\n",
    "\n",
    "# --- 2. Custom Log-Likelihood and Model Building Functions ---\n",
    "\n",
    "# The logp function signature is updated for pm.CustomDist.\n",
    "# The observed data (`value`) is now the first argument.\n",
    "def logp(value, v_alc, v_soc, k_alc, k_soc, A, tau):\n",
    "    \"\"\"\n",
    "    Custom LBA log-likelihood function for PyMC's CustomDist.\n",
    "    Calculates the pointwise log-likelihood for each trial.\n",
    "    \"\"\"\n",
    "    # CORRECTED: Access rt and choice via indexing, not unpacking.\n",
    "    # `value` is a single symbolic tensor with shape (2, n_trials).\n",
    "    rt = value[0]\n",
    "    choice = value[1]\n",
    "\n",
    "    epsilon = 1e-8\n",
    "    s = 1.0\n",
    "    b_alc = A + k_alc\n",
    "    b_soc = A + k_soc\n",
    "    t0 = tau\n",
    "    t = rt - t0\n",
    "    v_alc = pt.maximum(v_alc, epsilon)\n",
    "    v_soc = pt.maximum(v_soc, epsilon)\n",
    "    b_alc = pt.maximum(b_alc, epsilon)\n",
    "    b_soc = pt.maximum(b_soc, epsilon)\n",
    "    A = pt.maximum(A, epsilon)\n",
    "    t_safe = pt.maximum(t, epsilon)\n",
    "    term1_alc = (b_alc - A - t_safe * v_alc) / (t_safe * s)\n",
    "    term2_alc = (b_alc - t_safe * v_alc) / (t_safe * s)\n",
    "    pdf_alc = (v_alc * pt.exp(pm.logp(pm.Normal.dist(0, 1), term1_alc)) -\n",
    "               (b_alc - A) / t_safe * pt.exp(pm.logp(pm.Normal.dist(0, 1), term2_alc)))\n",
    "    cdf_alc = 1 + ((b_alc - A - t_safe * v_alc) / A * pt.exp(pm.logp(pm.Normal.dist(0, 1), term1_alc)) -\n",
    "                   (b_alc - t_safe * v_alc) / A * pt.exp(pm.logp(pm.Normal.dist(0, 1), term2_alc)))\n",
    "    term1_soc = (b_soc - A - t_safe * v_soc) / (t_safe * s)\n",
    "    term2_soc = (b_soc - t_safe * v_soc) / (t_safe * s)\n",
    "    pdf_soc = (v_soc * pt.exp(pm.logp(pm.Normal.dist(0, 1), term1_soc)) -\n",
    "               (b_soc - A) / t_safe * pt.exp(pm.logp(pm.Normal.dist(0, 1), term2_soc)))\n",
    "    cdf_soc = 1 + ((b_soc - A - t_safe * v_soc) / A * pt.exp(pm.logp(pm.Normal.dist(0, 1), term1_soc)) -\n",
    "                   (b_soc - t_safe * v_soc) / A * pt.exp(pm.logp(pm.Normal.dist(0, 1), term2_soc)))\n",
    "    \n",
    "    log_likelihood = pt.switch(\n",
    "        pt.eq(choice, 0),\n",
    "        pt.log(pt.maximum(pdf_alc, epsilon)) + pt.log(pt.maximum(1 - cdf_soc, epsilon)),\n",
    "        pt.log(pt.maximum(pdf_soc, epsilon)) + pt.log(pt.maximum(1 - cdf_alc, epsilon))\n",
    "    )\n",
    "    \n",
    "    return pt.switch(t < 0, -np.inf, log_likelihood)\n",
    "\n",
    "def build_model(data, n_subjects, n_sessions, tau_upper, S=False, C=False, R=False, T=False):\n",
    "    \"\"\"\n",
    "    Generalized function to build any of the 16 models. Must match the fitting script.\n",
    "    \"\"\"\n",
    "    coords = {\"subject_idx\": np.arange(n_subjects), \"session\": [\"early\", \"late\", \"pun\"]}\n",
    "    with pm.Model(coords=coords) as model:\n",
    "        v_alc_group_mu = pm.Normal('v_alc_group_mu', mu=1, sigma=1, dims=\"session\" if S else None)\n",
    "        v_soc_group_mu = pm.Normal('v_soc_group_mu', mu=1, sigma=1, dims=\"session\" if S else None)\n",
    "        A_group_mu_log = pm.Normal('A_group_mu_log', mu=-1, sigma=1, dims=\"session\" if C else None)\n",
    "        k_group_mu_log = pm.Normal('k_group_mu_log', mu=-1, sigma=1, dims=\"session\" if R else None)\n",
    "        tau_group_mu_log = pm.Normal('tau_group_mu_log', mu=-1, sigma=1, dims=\"session\" if T else None)\n",
    "        v_alc_group_sigma = pm.HalfNormal('v_alc_group_sigma', sigma=1)\n",
    "        v_soc_group_sigma = pm.HalfNormal('v_soc_group_sigma', sigma=1)\n",
    "        A_group_sigma = pm.HalfNormal('A_group_sigma', sigma=0.5)\n",
    "        k_group_sigma = pm.HalfNormal('k_group_sigma', sigma=0.5)\n",
    "        tau_group_sigma = pm.HalfNormal('tau_group_sigma', sigma=0.1)\n",
    "        v_alc_offset = pm.Normal('v_alc_offset', mu=0, sigma=1, dims=(\"subject_idx\", \"session\") if S else \"subject_idx\")\n",
    "        v_soc_offset = pm.Normal('v_soc_offset', mu=0, sigma=1, dims=(\"subject_idx\", \"session\") if S else \"subject_idx\")\n",
    "        A_offset = pm.Normal('A_offset', mu=0, sigma=1, dims=(\"subject_idx\", \"session\") if C else \"subject_idx\")\n",
    "        k_offset = pm.Normal('k_offset', mu=0, sigma=1, dims=(\"subject_idx\", \"session\") if R else \"subject_idx\")\n",
    "        tau_offset = pm.Normal('tau_offset', mu=0, sigma=1, dims=(\"subject_idx\", \"session\") if T else \"subject_idx\")\n",
    "        v_alc = pm.Deterministic('v_alcohol', v_alc_group_mu + v_alc_offset * v_alc_group_sigma, dims=(\"subject_idx\", \"session\") if S else \"subject_idx\")\n",
    "        v_soc = pm.Deterministic('v_social', v_soc_group_mu + v_soc_offset * v_soc_group_sigma, dims=(\"subject_idx\", \"session\") if S else \"subject_idx\")\n",
    "        A = pm.Deterministic('A', pm.math.exp(A_group_mu_log + A_offset * A_group_sigma), dims=(\"subject_idx\", \"session\") if C else \"subject_idx\")\n",
    "        k = pm.Deterministic('k', pm.math.exp(k_group_mu_log + k_offset * k_group_sigma), dims=(\"subject_idx\", \"session\") if R else \"subject_idx\")\n",
    "        tau_unbounded = pm.math.exp(tau_group_mu_log + tau_offset * tau_group_sigma)\n",
    "        tau = pm.Deterministic('tau', pm.math.minimum(tau_unbounded, tau_upper), dims=(\"subject_idx\", \"session\") if T else \"subject_idx\")\n",
    "        \n",
    "        pm.CustomDist(\n",
    "            'likelihood',\n",
    "            v_alc[data['subj_idx_code'].values, data['session_code'].values] if S else v_alc[data['subj_idx_code'].values],\n",
    "            v_soc[data['subj_idx_code'].values, data['session_code'].values] if S else v_soc[data['subj_idx_code'].values],\n",
    "            k[data['subj_idx_code'].values, data['session_code'].values] if R else k[data['subj_idx_code'].values],\n",
    "            k[data['subj_idx_code'].values, data['session_code'].values] if R else k[data['subj_idx_code'].values],\n",
    "            A[data['subj_idx_code'].values, data['session_code'].values] if C else A[data['subj_idx_code'].values],\n",
    "            tau[data['subj_idx_code'].values, data['session_code'].values] if T else tau[data['subj_idx_code'].values],\n",
    "            logp=logp,\n",
    "            observed=np.stack((data['rt'].values, data['response'].values), axis=0)\n",
    "        )\n",
    "    return model\n",
    "\n",
    "\n",
    "# --- 3. Main Execution Block ---\n",
    "def main():\n",
    "    \"\"\"\n",
    "    Main function to load traces, perform comparison, and save results.\n",
    "    \"\"\"\n",
    "    # --- Configuration ---\n",
    "    data_file_path = r'C:\\Users\\drfox\\LBA_Gemini\\aIC_Choice.csv'\n",
    "    results_dir = 'LBA_Model_Power_Set'\n",
    "    output_dir = 'LBA_Model_Comparison_Results'\n",
    "    os.makedirs(output_dir, exist_ok=True)\n",
    "    \n",
    "    # --- Data Preparation (needed for re-building models) ---\n",
    "    print(\"1. Loading and preparing data...\")\n",
    "    all_data = pd.read_csv(data_file_path)\n",
    "    all_data = all_data.dropna(subset=['rt', 'response'])\n",
    "    all_data['response'] = all_data['response'].astype(int)\n",
    "    all_data['subj_idx_code'] = pd.Categorical(all_data['subj_idx']).codes\n",
    "    all_data['session_code'] = pd.Categorical(all_data['session_type'], categories=['early', 'late', 'pun'], ordered=True).codes\n",
    "    n_subjects = all_data['subj_idx'].nunique()\n",
    "    n_sessions = all_data['session_type'].nunique()\n",
    "    tau_upper_limit = max(0.05, all_data['rt'].min() - 0.01)\n",
    "\n",
    "        # --- UPDATED: Define the Full 16 Models of the Power Set ---\n",
    "    models_to_process = {\n",
    "        \"M_base\": {\"S\": False, \"C\": False, \"R\": False, \"T\": False},\n",
    "        \"M_S\":    {\"S\": True,  \"C\": False, \"R\": False, \"T\": False},\n",
    "        \"M_C\":    {\"S\": False, \"C\": True,  \"R\": False, \"T\": False},\n",
    "        \"M_R\":    {\"S\": False, \"C\": False, \"R\": True,  \"T\": False},\n",
    "        #\"M_T\":    {\"S\": False, \"C\": False, \"R\": False, \"T\": True},\n",
    "        \"M_SC\":   {\"S\": True,  \"C\": True,  \"R\": False, \"T\": False},\n",
    "        \"M_SR\":   {\"S\": True,  \"C\": False, \"R\": True,  \"T\": False},\n",
    "        #\"M_ST\":   {\"S\": True,  \"C\": False, \"R\": False, \"T\": True},\n",
    "        \"M_CR\":   {\"S\": False, \"C\": True,  \"R\": True,  \"T\": False},\n",
    "        #\"M_CT\":   {\"S\": False, \"C\": True,  \"R\": False, \"T\": True},\n",
    "        #\"M_RT\":   {\"S\": False, \"C\": False, \"R\": True,  \"T\": True},\n",
    "        \"M_SCR\":  {\"S\": True,  \"C\": True,  \"R\": True,  \"T\": False},\n",
    "        #\"M_SCT\":  {\"S\": True,  \"C\": True,  \"R\": False, \"T\": True},\n",
    "        #\"M_SRT\":  {\"S\": True,  \"C\": False, \"R\": True,  \"T\": True},\n",
    "        #\"M_CRT\":  {\"S\": False, \"C\": True,  \"R\": True,  \"T\": True},\n",
    "        #\"M_SCRT\": {\"S\": True,  \"C\": True,  \"R\": True,  \"T\": True},\n",
    "    }\n",
    "\n",
    "    # --- Load Traces and Recompute Log-Likelihood ---\n",
    "    print(\"\\n2. Loading traces and recomputing log-likelihoods...\")\n",
    "    traces_to_compare = {}\n",
    "    for name, params in models_to_process.items():\n",
    "        trace_path = os.path.join(results_dir, f'trace_{name}.nc')\n",
    "        if os.path.exists(trace_path):\n",
    "            try:\n",
    "                trace = az.from_netcdf(trace_path)\n",
    "                print(f\"   Loaded trace for {name}. Recomputing log-likelihood...\")\n",
    "                model = build_model(all_data, n_subjects, n_sessions, tau_upper_limit, **params)\n",
    "                with model:\n",
    "                    pm.compute_log_likelihood(trace, extend_inferencedata=True)\n",
    "                traces_to_compare[name] = trace\n",
    "            except Exception as e:\n",
    "                print(f\"❌ ERROR processing trace for {name}: {e}\")\n",
    "        else:\n",
    "            print(f\"⚠️ WARNING: Trace file not found for {name}. It will be excluded.\")\n",
    "\n",
    "    if len(traces_to_compare) < 2:\n",
    "        print(\"\\nNot enough valid models were found to perform a comparison.\")\n",
    "        return\n",
    "\n",
    "    # --- Perform Model Comparison ---\n",
    "    print(\"\\n3. Performing LOO model comparison... (This may take a few minutes)\")\n",
    "    comparison_df = az.compare(traces_to_compare)\n",
    "\n",
    "    print(\"\\n--- Model Comparison Results (Lower LOO is better) ---\")\n",
    "    print(comparison_df)\n",
    "\n",
    "    # --- Save Results ---\n",
    "    print(\"\\n4. Saving comparison results...\")\n",
    "    csv_path = os.path.join(output_dir, 'model_comparison_loo.csv')\n",
    "    comparison_df.to_csv(csv_path)\n",
    "    print(f\"   Comparison table saved to: {csv_path}\")\n",
    "\n",
    "    # Generate and save the comparison plot\n",
    "    try:\n",
    "        az.plot_compare(comparison_df)\n",
    "        plot_path = os.path.join(output_dir, 'model_comparison_plot.png')\n",
    "        plt.savefig(plot_path, dpi=300, bbox_inches='tight')\n",
    "        print(f\"   Comparison plot saved to: {plot_path}\")\n",
    "        plt.show()\n",
    "    except Exception as e:\n",
    "        print(f\"   ERROR generating comparison plot: {e}\")\n",
    "\n",
    "    print(\"\\n=== Model Comparison Complete ===\")\n",
    "\n",
    "if __name__ == '__main__':\n",
    "    main()\n",
    "\n"
   ]
  },
  {
   "cell_type": "code",
   "execution_count": null,
   "id": "bb9942da-64c4-4a78-bd03-935bc8939c50",
   "metadata": {},
   "outputs": [],
   "source": []
  }
 ],
 "metadata": {
  "kernelspec": {
   "display_name": "Python 3 (ipykernel)",
   "language": "python",
   "name": "python3"
  },
  "language_info": {
   "codemirror_mode": {
    "name": "ipython",
    "version": 3
   },
   "file_extension": ".py",
   "mimetype": "text/x-python",
   "name": "python",
   "nbconvert_exporter": "python",
   "pygments_lexer": "ipython3",
   "version": "3.10.15"
  }
 },
 "nbformat": 4,
 "nbformat_minor": 5
}
